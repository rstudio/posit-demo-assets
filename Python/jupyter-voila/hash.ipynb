{
 "cells": [
  {
   "cell_type": "code",
   "execution_count": 6,
   "metadata": {},
   "outputs": [],
   "source": [
    "import ipywidgets as widgets\n",
    "import hashlib, glob\n",
    "from IPython.display import display"
   ]
  },
  {
   "attachments": {},
   "cell_type": "markdown",
   "metadata": {},
   "source": [
    "# hash\n",
    "\n",
    "How can you check that a copy of a file you send to someone isn't accidentally modified in transit?\n",
    "\n",
    "[Secure hashes](https://en.wikipedia.org/wiki/Cryptographic_hash_function) are one way to perform such a check.\n",
    "\n",
    "1. Choose a hashing algorithm.\n",
    "2. Upload a small file to the dashboard.\n",
    "3. Generate a hash.\n",
    "4. [Send](https://wormhole.app/) the file to a friend, and have them repeat steps 1, 2, and 3. (Email works too.)\n",
    "5. Compare hashes!"
   ]
  },
  {
   "cell_type": "code",
   "execution_count": 7,
   "metadata": {},
   "outputs": [],
   "source": [
    "algo = widgets.ToggleButtons(\n",
    "    options=[\"md5\", \"sha1\", \"sha256\"],\n",
    "    description=\"Select a hashing algorithm:\"\n",
    ")\n",
    "\n",
    "uploader = widgets.FileUpload()\n",
    "select_file = widgets.Select(options=\"\", description =\"Select a file to hash:\")\n",
    "files = glob.glob(\"\")\n",
    "current_file = None\n",
    "out = widgets.Output()\n",
    "button = widgets.Button(description = \"Generate file hash:\")"
   ]
  },
  {
   "cell_type": "code",
   "execution_count": 8,
   "metadata": {},
   "outputs": [],
   "source": [
    "# adapted from\n",
    "# https://stackoverflow.com/a/44873382\n",
    "# in python 3.11+ you can use hashlib.file_hash() instead \n",
    "def shasum(filename, digest):\n",
    "    h  = hashlib.new(digest)\n",
    "    b  = bytearray(128*1024)\n",
    "    mv = memoryview(b)\n",
    "    with open(filename, 'rb', buffering=0) as f:\n",
    "        for n in iter(lambda : f.readinto(mv), 0):\n",
    "            h.update(mv[:n])\n",
    "    print(f\"{digest}: {h.hexdigest()}\")\n",
    "    return f\"{digest}: {h.hexdigest()}\""
   ]
  },
  {
   "cell_type": "code",
   "execution_count": 9,
   "metadata": {},
   "outputs": [],
   "source": [
    "# adpated from\n",
    "# https://github.com/fomightez/3Dscatter_plot-binder\n",
    "@out.capture(clear_output=True, wait=True)\n",
    "def on_button_clicked(b):\n",
    "    global uploader, algo, select_file, current_file\n",
    "    current_file = select_file.value\n",
    "    filehash = shasum(current_file, algo.value)\n",
    "    vbox.children = [algo, uploader, select_file, button, out]\n",
    "\n",
    "def on_file_upload(change):\n",
    "    global uploader, select_file, current_file\n",
    "    for details_dict in change[\"new\"]:\n",
    "        files.append(details_dict[\"name\"])\n",
    "\n",
    "        with open(details_dict[\"name\"], \"wb\") as f:\n",
    "            f.write(details_dict[\"content\"])\n",
    "    \n",
    "    current_file = select_file.value\n",
    "    select_file.options = tuple(files)\n",
    "    select_file.value\n",
    "\n",
    "button.on_click(on_button_clicked)\n",
    "vbox = widgets.VBox([algo, uploader, select_file, button])"
   ]
  },
  {
   "cell_type": "code",
   "execution_count": 10,
   "metadata": {},
   "outputs": [
    {
     "data": {
      "application/vnd.jupyter.widget-view+json": {
       "model_id": "6285d9d537304edabd06904afa5d34d4",
       "version_major": 2,
       "version_minor": 0
      },
      "text/plain": [
       "VBox(children=(ToggleButtons(description='Select a hashing algorithm:', options=('md5', 'sha1', 'sha256'), val…"
      ]
     },
     "execution_count": 10,
     "metadata": {},
     "output_type": "execute_result"
    }
   ],
   "source": [
    "uploader.observe(on_file_upload, \"value\")\n",
    "vbox"
   ]
  }
 ],
 "metadata": {
  "kernelspec": {
   "display_name": "jupytervoila",
   "language": "python",
   "name": "jupytervoila"
  },
  "language_info": {
   "codemirror_mode": {
    "name": "ipython",
    "version": 3
   },
   "file_extension": ".py",
   "mimetype": "text/x-python",
   "name": "python",
   "nbconvert_exporter": "python",
   "pygments_lexer": "ipython3",
   "version": "3.12.6"
  },
  "orig_nbformat": 4,
  "vscode": {
   "interpreter": {
    "hash": "58b987bbdc7808225bbe23a8c8714df9864b164f01439c091b16b96ae31865d2"
   }
  }
 },
 "nbformat": 4,
 "nbformat_minor": 2
}
